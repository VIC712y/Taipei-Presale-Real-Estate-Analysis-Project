{
 "cells": [
  {
   "cell_type": "code",
   "execution_count": null,
   "id": "adbf8aca-523b-4666-9879-4ac695cabca9",
   "metadata": {},
   "outputs": [],
   "source": [
    "APPID = \"85Uh7txOAZ0eBSBmisR55m5aKNh+0QnfHRgFsSTmLznvZvQIy5aSJg==\"\n",
    "APIKey = \"cGEErDNy5yOV6QBnBTBMw08hkep+XQWXUPDYVruKLnfMQTtX884myy67TFORCc+1ugS8LAB1wXnAx2C0ju8g2YpKG81bknXjqwRFvcUkgfjVbi3MZZfFb5ciwEoNghOkzF7mNe+ZMa1BB43M09Q0GF7VDyu9V9YO/qmBwvyyNpquVG99q0df4KZ4cHqUqxiLYZ6YC81G6DsX2BdzlfDX5j58d5Cjyp8UMYFM3bnkjR4FT/rvBbdmzjHMFXZpz1Hgw7ARaDn2bIPCz5eh8+RcZubCNjUlieoFJNQU1h8nF6g7W3YUy+2F54AJ7Evc/+n3nSS+QUswIbpyFTWAJmS3++7fDF9SmbqovsGrYsk9sctP5aiLVQEXnT3phO872sRud/RNZz5PEAjE5Tyx12nLcE2WeiFGD6RzxAKoV+ZW5eY=\"\n"
   ]
  },
  {
   "cell_type": "code",
   "execution_count": 20,
   "id": "92e46c29-8667-4ca9-bd7b-7a7d19143c5c",
   "metadata": {},
   "outputs": [],
   "source": [
    "import pandas as pd\n",
    "\n",
    "old = pd.read_csv(\"臺北市.csv\", low_memory= False)\n",
    "new = pd.read_csv(\"臺北市113.csv\", low_memory= False)\n",
    "df = pd.concat([old,new], ignore_index=True)"
   ]
  },
  {
   "cell_type": "code",
   "execution_count": 21,
   "id": "b2251cce-96c2-4282-883f-d0c5f7cd4d72",
   "metadata": {},
   "outputs": [
    {
     "name": "stdout",
     "output_type": "stream",
     "text": [
      "第一個出現的建案名稱: 菁席\n",
      "對應的地址: 中正區仁愛路二段44號\n"
     ]
    }
   ],
   "source": [
    "# 獲取第一個出現的建案名稱及地址\n",
    "first_project_name = df.iloc[0]['建案名稱']  # 第一個建案名稱\n",
    "first_address = df.iloc[0]['座落']  # 第一個對應的地址\n",
    "\n",
    "# 打印結果\n",
    "print(f\"第一個出現的建案名稱: {first_project_name}\")\n",
    "print(f\"對應的地址: {first_address}\")\n"
   ]
  },
  {
   "cell_type": "code",
   "execution_count": 22,
   "id": "6012cffd-dd0b-4bcd-a30f-271b242eb4a1",
   "metadata": {},
   "outputs": [
    {
     "data": {
      "text/html": [
       "<div>\n",
       "<style scoped>\n",
       "    .dataframe tbody tr th:only-of-type {\n",
       "        vertical-align: middle;\n",
       "    }\n",
       "\n",
       "    .dataframe tbody tr th {\n",
       "        vertical-align: top;\n",
       "    }\n",
       "\n",
       "    .dataframe thead th {\n",
       "        text-align: right;\n",
       "    }\n",
       "</style>\n",
       "<table border=\"1\" class=\"dataframe\">\n",
       "  <thead>\n",
       "    <tr style=\"text-align: right;\">\n",
       "      <th></th>\n",
       "      <th>建案名稱</th>\n",
       "      <th>地址</th>\n",
       "    </tr>\n",
       "  </thead>\n",
       "  <tbody>\n",
       "    <tr>\n",
       "      <th>0</th>\n",
       "      <td>30創富</td>\n",
       "      <td>臺北市萬華區康定路84號</td>\n",
       "    </tr>\n",
       "    <tr>\n",
       "      <th>1</th>\n",
       "      <td>55 TIMELESS</td>\n",
       "      <td>臺北市信義區信義路五段57號</td>\n",
       "    </tr>\n",
       "    <tr>\n",
       "      <th>2</th>\n",
       "      <td>????·??????? 資</td>\n",
       "      <td>臺北市士林區文林路號</td>\n",
       "    </tr>\n",
       "    <tr>\n",
       "      <th>3</th>\n",
       "      <td>?DC</td>\n",
       "      <td>臺北市內湖區文德段二小段 602-3、603-9、603-20、610、611、612-6、...</td>\n",
       "    </tr>\n",
       "    <tr>\n",
       "      <th>4</th>\n",
       "      <td>?山 資</td>\n",
       "      <td>臺北市中山區長安東路一段52巷號</td>\n",
       "    </tr>\n",
       "    <tr>\n",
       "      <th>...</th>\n",
       "      <td>...</td>\n",
       "      <td>...</td>\n",
       "    </tr>\n",
       "    <tr>\n",
       "      <th>863</th>\n",
       "      <td>鼎吉中山 資</td>\n",
       "      <td>臺北市中山區中山區新生里新生北路二段137巷1號</td>\n",
       "    </tr>\n",
       "    <tr>\n",
       "      <th>864</th>\n",
       "      <td>鼎吉水岸 資</td>\n",
       "      <td>臺北市中正區水源路161-1號</td>\n",
       "    </tr>\n",
       "    <tr>\n",
       "      <th>865</th>\n",
       "      <td>鼎隆苑</td>\n",
       "      <td>臺北市文山區興隆路二段25巷乙棟I-11F號</td>\n",
       "    </tr>\n",
       "    <tr>\n",
       "      <th>866</th>\n",
       "      <td>龍霖初心 資</td>\n",
       "      <td>臺北市北投區石牌路二段315巷號</td>\n",
       "    </tr>\n",
       "    <tr>\n",
       "      <th>867</th>\n",
       "      <td>美</td>\n",
       "      <td>臺北市文山區景後街178號</td>\n",
       "    </tr>\n",
       "  </tbody>\n",
       "</table>\n",
       "<p>868 rows × 2 columns</p>\n",
       "</div>"
      ],
      "text/plain": [
       "               建案名稱                                                 地址\n",
       "0              30創富                                       臺北市萬華區康定路84號\n",
       "1       55 TIMELESS                                     臺北市信義區信義路五段57號\n",
       "2    ????·??????? 資                                         臺北市士林區文林路號\n",
       "3               ?DC  臺北市內湖區文德段二小段 602-3、603-9、603-20、610、611、612-6、...\n",
       "4              ?山 資                                   臺北市中山區長安東路一段52巷號\n",
       "..              ...                                                ...\n",
       "863          鼎吉中山 資                           臺北市中山區中山區新生里新生北路二段137巷1號\n",
       "864          鼎吉水岸 資                                    臺北市中正區水源路161-1號\n",
       "865             鼎隆苑                             臺北市文山區興隆路二段25巷乙棟I-11F號\n",
       "866          龍霖初心 資                                   臺北市北投區石牌路二段315巷號\n",
       "867              美                                      臺北市文山區景後街178號\n",
       "\n",
       "[868 rows x 2 columns]"
      ]
     },
     "metadata": {},
     "output_type": "display_data"
    }
   ],
   "source": [
    "# 使用 groupby 獲取每個不同建案名稱的第一個地址\n",
    "unique_projects = df.groupby('建案名稱')['座落'].first().reset_index()\n",
    "unique_projects[[\"地址\",\"tmp\"]] = unique_projects['座落'].str.split(\"號\",n=1 , expand= True)\n",
    "unique_projects[\"地址\"] = \"臺北市\" + unique_projects[\"地址\"]+ \"號\"\n",
    "\n",
    "import unicodedata\n",
    "\n",
    "# 定義一個函數來將全形字符轉換為半形字符\n",
    "def to_half_width(s):\n",
    "    return unicodedata.normalize('NFKC', s)\n",
    "\n",
    "# 假設 '座落' 列中包含全形字符，將其轉換為半形字符\n",
    "unique_projects['地址'] = unique_projects['地址'].apply(to_half_width)\n",
    "unique_projects.drop(columns = [\"座落\",\"tmp\"],inplace = True)\n",
    "# 打印結果\n",
    "display(unique_projects)"
   ]
  },
  {
   "cell_type": "code",
   "execution_count": 23,
   "id": "fdb71aa3-5646-464b-8bfb-ae92d07f9a68",
   "metadata": {},
   "outputs": [],
   "source": [
    "unique_projects.to_csv(\"query.csv\")"
   ]
  }
 ],
 "metadata": {
  "kernelspec": {
   "display_name": "Python 3 (ipykernel)",
   "language": "python",
   "name": "python3"
  },
  "language_info": {
   "codemirror_mode": {
    "name": "ipython",
    "version": 3
   },
   "file_extension": ".py",
   "mimetype": "text/x-python",
   "name": "python",
   "nbconvert_exporter": "python",
   "pygments_lexer": "ipython3",
   "version": "3.12.4"
  }
 },
 "nbformat": 4,
 "nbformat_minor": 5
}
