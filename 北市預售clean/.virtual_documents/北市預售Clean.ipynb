import pandas as pd
import numpy as np
import matplotlib.pyplot as plt
import seaborn as sns


input_file = '臺北市.csv'
df = pd.read_csv(input_file, low_memory=False)
exp = pd.read_csv('sample.csv', low_memory=False)
cordinate = pd.read_csv('queryed.csv', low_memory=False)
display(df.head(2))
display(exp.head(2))
display(cordinate.head(2))


df = df.drop(columns=["index","棟及號","功能","備註","交易明細"])


display(df.head())


## Information
output = pd.DataFrame()
output["p_name"] = df["建案名稱"].str.replace("資","").str.replace(" ","")
# 使用 str.split() 並展開到兩列，處理區分割
split_data = df["座落"].str.split("區", n=1, expand=True)
df["Address"] = "臺北市"+ df["座落"]
# 確保有兩列數據，再分別賦值給 'dist' 和 'address'
output["dist"] = split_data[0]  # 添加回 '區'
output["address"] = split_data[1].str.strip()  # 去除可能的前後空格
output["price"]=df["總價"]
try:
    output["price"]=output["price"].str.replace(",","").astype(float)
except:
    output["price"]=output["price"].astype(float)
output["tArea"]=df["總面積"].astype(float)
output["p_price"]=df["單價"].astype(float)
output["c_total"]=df["車位總價"]
display(df.head(),output.head())


func = {'bt08':"Factory",
 'bt':"Farmhouse",
 'bt09':"Factory/Office",
 'bt06':"Apartment_M",
 'bt04':"Office",
 'bt10':"Farmhouse",
 'bt03':"Store",
 'bt05':"Condo",
 'btZ':"Condo",
 'bt07':"Studio",
 'bt01':"Apartment_L"}
output["func"]= df["型態"].replace(func)
output


## Layout
output[["temp","bath"]] = df["建物格局"].str.replace("衛","").str.split("廳", expand=True).fillna(0)
output[["bedroom","room"]] = output["temp"].str.split("房", expand=True).fillna(0)
output.drop(columns=["temp"])


## 交易標的
output[["temp","c_amount"]] = df["交易標的"].str.split("車", expand=True).fillna(0)
output[["temp","unit"]] = output["temp"].str.split("建", expand=True).fillna(0)
output['c_total'] = pd.to_numeric(output['c_total'], errors='coerce')
output['c_amount'] = pd.to_numeric(output['c_amount'], errors='coerce')
output['c_total'] = output['c_total'].fillna(0)
output['c_amount'] = output['c_amount'].replace(0, 1)
output[['bath', 'bedroom', 'room', 'c_amount','c_total', 'unit']] = (output[['bath', 'bedroom', 'room', 'c_amount','c_total', 'unit']].replace('', 0).fillna(0).astype(int))
output['c_price'] = output['c_total']/output['c_amount']
output.drop(columns=["temp"])


# Replace empty strings or NaN with a default value (e.g., 0) before converting to int
display(df.head(2),output.head(2))


## DateTime Traansform
tmp = pd.DataFrame()
output[["year","month","day"]] = df["交易日期"].str.split("/", expand=True).astype(int)
output["year"] = output["year"] +1911
output['date'] = output["year"].astype(str) + "/" + output["month"].astype(str) + "/" + output["day"].astype(str)
output['date'] = pd.to_datetime(output['date'], format='%Y/%m/%d')
output.head(2)


#output = output.sort_values(by="price", ascending=False)
output["p_lot"]= output["c_amount"]
output.drop(columns=["temp","c_total","c_amount"],inplace = True)
output.head(3)





output[["Fl","tFl"]] = df["樓別/棟高"].str.split("/", expand=True).fillna(0)
rp = {'13樓、14樓':"13","16至27樓":"16","一、二層":"1",'全棟':"1",'全':"1",0:"1"}
try:
    output["Fl"] = output["Fl"].replace(rp)
    output[["Fl","tFl"]] = output[["Fl","tFl"]].fillna(0).astype(int)
except:
    pass
output.head(3)


cordinate.head(3)


cordinate["Address"] = cordinate["Address"].apply(lambda x: x.split("鄰")[-1] if pd.notnull(x) else x)
cordinate["Address"] = cordinate["Address"].apply(lambda x: x.split("里")[-1] if pd.notnull(x) else x)
cordinate["Address"] = cordinate["Address"].apply(lambda x: x.split("區")[-1] if pd.notnull(x) else x)
display(cordinate)


# 進行左連接合併，根據 p_name 匹配 Address
output = output.merge(cordinate[["p_name", "Address","x","y"]], on="p_name", how="left")

# 更新後的 'Address' 列重新命名為 'address'
output["address"] = output["Address"]

# 刪除臨時生成的 'Address' 列
output.drop(columns=["Address"], inplace=True)


output.head()


distant = pd.read_csv("distant.csv", low_memory=False)
distant = distant[["p_name","dist_MRT","station"]]
output1 = pd.merge(output, distant, how="left", left_on =  "p_name", right_on = "p_name")
output1


output_filename = {"臺北市113.csv":"test.csv","臺北市.csv":"train.csv"}
output1.to_csv(output_filename[input_file], index= False)



