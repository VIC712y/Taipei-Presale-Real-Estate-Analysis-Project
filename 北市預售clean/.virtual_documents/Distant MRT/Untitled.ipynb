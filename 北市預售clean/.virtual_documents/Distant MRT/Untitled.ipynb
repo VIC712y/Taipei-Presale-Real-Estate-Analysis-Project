import pandas as pd

gps = pd.read_csv("northern-taiwan.csv", low_memory = False)
data = pd.read_csv("queryed.csv", low_memory = False)
gps = gps.rename(columns={'lat': 'y', 'lon': 'x'})
display(gps.head(2),data.head(2))


gps.tail(10)


from sklearn.neighbors import BallTree
import numpy as np
import math

def deg2rad(deg):
    return deg * (math.pi / 180)

points  = np.array(data[["x","y"]])
stations = np.array(gps[["x","y"]])

# 將經緯度轉換為弧度
points_rad = np.radians(points)
stations_rad = np.radians(stations)

# 使用BallTree進行最近鄰查找，使用地球半徑（6371公里）
tree = BallTree(stations_rad, metric='haversine')
distances, indices = tree.query(points_rad, k=1)

# 將Haversine距離轉換為公里
distances_in_km = distances * 6371

# 創建DataFrame
df = pd.DataFrame({
    'point_lat': points[:, 0],
    'point_lon': points[:, 1],
    'nearest_station_index': indices.flatten(),
    'distance_to_nearest_station_km': distances_in_km.flatten()
})

# 顯示DataFrame
display(df)


merged_df


merged_df = pd.merge(df, gps, how='left', left_on='nearest_station_index', right_index=True)
tmp = pd.DataFrame()
tmp["dist_MRT"] =  merged_df['distance_to_nearest_station_km']*1000 
tmp["station"] =  merged_df['station_name_en']
tmp.head()


output = pd.merge(data, tmp, how='left', left_index=True, right_index=True)
output.to_csv("distant.csv", index = False)
